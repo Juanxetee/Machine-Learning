{
 "cells": [
  {
   "cell_type": "markdown",
   "metadata": {},
   "source": [
    "<img src=\"../../Img/img.webp\" alt=\"Predicción del Éxito de Videojuegos\" width=\"100%\" height=\"300px\">"
   ]
  },
  {
   "cell_type": "markdown",
   "metadata": {},
   "source": [
    "<h1 style=\"text-align: center; font-size: 2.5em; text-decoration: underline;\">MACHINE LEARNING: VALORADOR DE OPINIONES</h1>\n",
    "\n",
    "The objective of this project is to develop a Machine Learning model that can automatically classify user reviews about video games as positive or negative. The project includes data manipulation and preprocessing, as well as the training and evaluation of various Machine Learning models.\n",
    "\n",
    "## 1. Data Manipulation and Preprocessing\n",
    "Initially, we loaded and explored the dataset to understand its structure and content. Next, we performed several text preprocessing steps to prepare the data for modeling.\n",
    "\n",
    "- **Load and explore the dataset**: [Notebook](ML_ValoraOpiniones.ipynb)\n",
    "- **Handling missing values**: We removed records with missing values in the \"Contenido\" column.\n",
    "- **Text cleaning**: We converted the text to lowercase, removed special characters, punctuation, and digits, and tokenized and lemmatized the text.\n",
    "\n",
    "## 2. Text Preprocessing\n",
    "Text preprocessing techniques were applied to normalize and clean the textual data. We used the `nltk` library for lemmatization and stopword removal, and `langdetect` for language detection.\n",
    "\n",
    "- **Multilingual preprocessing**: [Notebook Pruebas](Pruebas_ML_ValoraOpiniones.ipynb)\n",
    "\n",
    "## 3. Modeling and Evaluation\n",
    "We trained several Machine Learning models, including Logistic Regression, SVM, and Random Forest, and evaluated their performance using metrics such as recall, F1-score, and accuracy.\n",
    "\n",
    "- **Model selection**: We used `GridSearchCV` to select the best models and parameters.\n",
    "- **Models evaluated**: Logistic Regression, SVM, Random Forest.\n",
    "- **Results**:\n",
    "  - Logistic Regression and SVM showed good initial results on the test set.\n",
    "  - Random Forest had worse initial results but proved to be more robust and effective with new data, outperforming other models in terms of precision and consistency.\n",
    "\n",
    "For detailed information on the trained models and their evaluations, refer to the following notebooks:\n",
    "- [Training and Evaluation](ML_ValoraOpiniones.ipynb)\n",
    "- [Additional Tests and Evaluations](Pruebas_ML_ValoraOpiniones.ipynb)\n",
    "\n",
    "## 4. Graphical Analysis\n",
    "We performed a graphical analysis of the data distribution.\n",
    "\n",
    "- **Visualization**: We used `matplotlib` and `seaborn` to create graphs that help interpret the results and data distribution better.\n",
    "\n",
    "## 5. Conclusions\n",
    "Finally, after testing several models, we selected Random Forest as the final model due to its robustness and better results with new data, despite its inferior performance on the initial test set. This model proved to be the most effective and consistent in classifying user reviews about video games.\n",
    "\n",
    "### Detailed Conclusions:\n",
    "- **Model performance**: Random Forest, although initially performing worse, proved to be more robust and consistent with new data.\n",
    "- **Impact of preprocessing**: Text cleaning and lemmatization significantly improved prediction accuracy.\n",
    "- **Recommendations**: For future work, it is recommended to continue refining text preprocessing and exploring other models and ensemble techniques to further improve model accuracy and robustness.\n",
    "\n",
    "For more details about the project and access to the notebooks, please refer to the provided links.\n",
    "\n",
    "I hope this documentation meets your expectations and helps you document your project effectively. If you need any modifications or additional information, feel free to let me know."
   ]
  }
 ],
 "metadata": {
  "kernelspec": {
   "display_name": "Python 3",
   "language": "python",
   "name": "python3"
  },
  "language_info": {
   "codemirror_mode": {
    "name": "ipython",
    "version": 3
   },
   "file_extension": ".py",
   "mimetype": "text/x-python",
   "name": "python",
   "nbconvert_exporter": "python",
   "pygments_lexer": "ipython3",
   "version": "3.12.4"
  }
 },
 "nbformat": 4,
 "nbformat_minor": 2
}
