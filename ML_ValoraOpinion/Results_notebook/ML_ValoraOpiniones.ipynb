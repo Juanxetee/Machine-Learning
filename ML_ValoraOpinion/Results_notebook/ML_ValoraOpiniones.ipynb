{
 "cells": [
  {
   "cell_type": "markdown",
   "metadata": {},
   "source": [
    "<img src=\"../../Img/img.webp\" alt=\"Predicción del Éxito de Videojuegos\" width=\"100%\" height=\"300px\">"
   ]
  },
  {
   "cell_type": "markdown",
   "metadata": {},
   "source": [
    "<h1 style=\"text-align: center; font-size: 2.5em; text-decoration: underline;\">MACHINE LEARNING: VALORADOR DE OPINIONES</h1>"
   ]
  },
  {
   "cell_type": "code",
   "execution_count": 1,
   "metadata": {},
   "outputs": [
    {
     "name": "stderr",
     "output_type": "stream",
     "text": [
      "[nltk_data] Downloading package punkt to\n",
      "[nltk_data]     C:\\Users\\buque\\AppData\\Roaming\\nltk_data...\n",
      "[nltk_data]   Package punkt is already up-to-date!\n",
      "[nltk_data] Downloading package stopwords to\n",
      "[nltk_data]     C:\\Users\\buque\\AppData\\Roaming\\nltk_data...\n",
      "[nltk_data]   Package stopwords is already up-to-date!\n",
      "[nltk_data] Downloading package wordnet to\n",
      "[nltk_data]     C:\\Users\\buque\\AppData\\Roaming\\nltk_data...\n",
      "[nltk_data]   Package wordnet is already up-to-date!\n"
     ]
    }
   ],
   "source": [
    "# ==============================================================================\n",
    "# # Manipulación de datos\n",
    "# ==============================================================================\n",
    "\n",
    "import pandas as pd\n",
    "import numpy as np\n",
    "\n",
    "# ==============================================================================\n",
    "# Preprocesamiento de texto\n",
    "# ==============================================================================\n",
    "\n",
    "import re\n",
    "import nltk\n",
    "from nltk.corpus import stopwords\n",
    "from nltk.tokenize import word_tokenize\n",
    "from nltk.stem import WordNetLemmatizer\n",
    "\n",
    "# ==============================================================================\n",
    "# Detección de idioma\n",
    "# ==============================================================================\n",
    "\n",
    "from langdetect import detect\n",
    "\n",
    "# ==============================================================================\n",
    "# Modelado y evaluación\n",
    "# ==============================================================================\n",
    "\n",
    "from sklearn.feature_extraction.text import TfidfVectorizer\n",
    "from sklearn.linear_model import LogisticRegression\n",
    "from sklearn.ensemble import RandomForestClassifier, VotingClassifier\n",
    "from sklearn.svm import SVC\n",
    "from sklearn.model_selection import train_test_split, GridSearchCV, cross_val_score\n",
    "from sklearn.metrics import classification_report, confusion_matrix, accuracy_score\n",
    "\n",
    "# ==============================================================================\n",
    "# Visualización\n",
    "# ==============================================================================\n",
    "\n",
    "import matplotlib.pyplot as plt\n",
    "import seaborn as sns\n",
    "\n",
    "# ==============================================================================\n",
    "# Guardado de modelos\n",
    "# ==============================================================================\n",
    "\n",
    "import pickle\n",
    "\n",
    "# ==============================================================================\n",
    "# Descargar recursos necesarios para nltk\n",
    "# ==============================================================================\n",
    "\n",
    "nltk.download('punkt')\n",
    "nltk.download('stopwords')\n",
    "nltk.download('wordnet')\n",
    "\n",
    "# ==============================================================================\n",
    "# Configuración warnings\n",
    "# ==============================================================================\n",
    "\n",
    "import warnings\n",
    "warnings.filterwarnings('ignore')"
   ]
  },
  {
   "cell_type": "markdown",
   "metadata": {},
   "source": [
    "# Cargar y Explorar el Dataset\n",
    "Cargamos el dataset y exploramos su estructura inicial."
   ]
  },
  {
   "cell_type": "code",
   "execution_count": 36,
   "metadata": {},
   "outputs": [
    {
     "data": {
      "text/html": [
       "<div>\n",
       "<style scoped>\n",
       "    .dataframe tbody tr th:only-of-type {\n",
       "        vertical-align: middle;\n",
       "    }\n",
       "\n",
       "    .dataframe tbody tr th {\n",
       "        vertical-align: top;\n",
       "    }\n",
       "\n",
       "    .dataframe thead th {\n",
       "        text-align: right;\n",
       "    }\n",
       "</style>\n",
       "<table border=\"1\" class=\"dataframe\">\n",
       "  <thead>\n",
       "    <tr style=\"text-align: right;\">\n",
       "      <th></th>\n",
       "      <th>Unnamed: 0</th>\n",
       "      <th>Contenido</th>\n",
       "      <th>Valoración</th>\n",
       "      <th>Recomendado_binario</th>\n",
       "    </tr>\n",
       "  </thead>\n",
       "  <tbody>\n",
       "    <tr>\n",
       "      <th>0</th>\n",
       "      <td>0</td>\n",
       "      <td>2 marzo so bad</td>\n",
       "      <td>No recomendado</td>\n",
       "      <td>0</td>\n",
       "    </tr>\n",
       "    <tr>\n",
       "      <th>1</th>\n",
       "      <td>1</td>\n",
       "      <td>10 febrero actualmente recomiendo juego contab...</td>\n",
       "      <td>No recomendado</td>\n",
       "      <td>0</td>\n",
       "    </tr>\n",
       "    <tr>\n",
       "      <th>2</th>\n",
       "      <td>2</td>\n",
       "      <td>9 febrero increíblemente gracioso ver cómo cdp...</td>\n",
       "      <td>No recomendado</td>\n",
       "      <td>0</td>\n",
       "    </tr>\n",
       "    <tr>\n",
       "      <th>3</th>\n",
       "      <td>3</td>\n",
       "      <td>the world in this game is extremely static the...</td>\n",
       "      <td>No recomendado</td>\n",
       "      <td>0</td>\n",
       "    </tr>\n",
       "    <tr>\n",
       "      <th>4</th>\n",
       "      <td>4</td>\n",
       "      <td>zero replayability i finished this game in abo...</td>\n",
       "      <td>No recomendado</td>\n",
       "      <td>0</td>\n",
       "    </tr>\n",
       "    <tr>\n",
       "      <th>...</th>\n",
       "      <td>...</td>\n",
       "      <td>...</td>\n",
       "      <td>...</td>\n",
       "      <td>...</td>\n",
       "    </tr>\n",
       "    <tr>\n",
       "      <th>19995</th>\n",
       "      <td>19995</td>\n",
       "      <td>si</td>\n",
       "      <td>Recomendado</td>\n",
       "      <td>1</td>\n",
       "    </tr>\n",
       "    <tr>\n",
       "      <th>19996</th>\n",
       "      <td>19996</td>\n",
       "      <td>cojonudo</td>\n",
       "      <td>Recomendado</td>\n",
       "      <td>1</td>\n",
       "    </tr>\n",
       "    <tr>\n",
       "      <th>19997</th>\n",
       "      <td>19997</td>\n",
       "      <td>reostia historia guapisima graficos impresiona...</td>\n",
       "      <td>Recomendado</td>\n",
       "      <td>1</td>\n",
       "    </tr>\n",
       "    <tr>\n",
       "      <th>19998</th>\n",
       "      <td>19998</td>\n",
       "      <td>basicamente sublime obra maestra</td>\n",
       "      <td>Recomendado</td>\n",
       "      <td>1</td>\n",
       "    </tr>\n",
       "    <tr>\n",
       "      <th>19999</th>\n",
       "      <td>19999</td>\n",
       "      <td>puedo dormir</td>\n",
       "      <td>Recomendado</td>\n",
       "      <td>1</td>\n",
       "    </tr>\n",
       "  </tbody>\n",
       "</table>\n",
       "<p>20000 rows × 4 columns</p>\n",
       "</div>"
      ],
      "text/plain": [
       "       Unnamed: 0                                          Contenido  \\\n",
       "0               0                                     2 marzo so bad   \n",
       "1               1  10 febrero actualmente recomiendo juego contab...   \n",
       "2               2  9 febrero increíblemente gracioso ver cómo cdp...   \n",
       "3               3  the world in this game is extremely static the...   \n",
       "4               4  zero replayability i finished this game in abo...   \n",
       "...           ...                                                ...   \n",
       "19995       19995                                                 si   \n",
       "19996       19996                                           cojonudo   \n",
       "19997       19997  reostia historia guapisima graficos impresiona...   \n",
       "19998       19998                   basicamente sublime obra maestra   \n",
       "19999       19999                                       puedo dormir   \n",
       "\n",
       "           Valoración  Recomendado_binario  \n",
       "0      No recomendado                    0  \n",
       "1      No recomendado                    0  \n",
       "2      No recomendado                    0  \n",
       "3      No recomendado                    0  \n",
       "4      No recomendado                    0  \n",
       "...               ...                  ...  \n",
       "19995     Recomendado                    1  \n",
       "19996     Recomendado                    1  \n",
       "19997     Recomendado                    1  \n",
       "19998     Recomendado                    1  \n",
       "19999     Recomendado                    1  \n",
       "\n",
       "[20000 rows x 4 columns]"
      ]
     },
     "execution_count": 36,
     "metadata": {},
     "output_type": "execute_result"
    }
   ],
   "source": [
    "# ==============================================================================\n",
    "# Load the dataset\n",
    "# ==============================================================================\n",
    "dataset = pd.read_csv('../Data/dataset_reviews_cleaned.csv')\n",
    "dataset"
   ]
  },
  {
   "cell_type": "markdown",
   "metadata": {},
   "source": [
    "# Manejo de Valores Nulos\n",
    "Observamos que hay 288 valores nulos en la columna Contenido. Vamos a eliminar estos registros ya que representan una pequeña fracción del dataset total (20,000 comentarios).\n",
    "\n",
    "# Limpieza y Preprocesamiento de Texto"
   ]
  },
  {
   "cell_type": "code",
   "execution_count": 37,
   "metadata": {},
   "outputs": [
    {
     "data": {
      "text/plain": [
       "(Unnamed: 0               0\n",
       " Contenido              288\n",
       " Valoración               0\n",
       " Recomendado_binario      0\n",
       " dtype: int64,\n",
       "          Unnamed: 0  Recomendado_binario\n",
       " count  20000.000000         20000.000000\n",
       " mean    9999.500000             0.500000\n",
       " std     5773.647028             0.500013\n",
       " min        0.000000             0.000000\n",
       " 25%     4999.750000             0.000000\n",
       " 50%     9999.500000             0.500000\n",
       " 75%    14999.250000             1.000000\n",
       " max    19999.000000             1.000000)"
      ]
     },
     "execution_count": 37,
     "metadata": {},
     "output_type": "execute_result"
    }
   ],
   "source": [
    "missing_values = dataset.isnull().sum()\n",
    "basic_stats = dataset.describe()\n",
    "\n",
    "missing_values, basic_stats"
   ]
  },
  {
   "cell_type": "markdown",
   "metadata": {},
   "source": [
    "- Eliminar registros con valores nulos en Contenido.\n",
    "- Convertir el texto a minúsculas.\n",
    "- Eliminar caracteres especiales, puntuación y dígitos.\n",
    "- Tokenizar y lematizar."
   ]
  },
  {
   "cell_type": "code",
   "execution_count": 38,
   "metadata": {},
   "outputs": [],
   "source": [
    "dataset = dataset.dropna(subset=['Contenido'])"
   ]
  },
  {
   "cell_type": "code",
   "execution_count": 39,
   "metadata": {},
   "outputs": [],
   "source": [
    "dataset['Contenido'] = dataset['Contenido'].str.lower()"
   ]
  },
  {
   "cell_type": "code",
   "execution_count": 40,
   "metadata": {},
   "outputs": [],
   "source": [
    "dataset['Contenido'] = dataset['Contenido'].apply(lambda x: re.sub(r'[^a-z\\s]', '', x))"
   ]
  },
  {
   "cell_type": "code",
   "execution_count": 41,
   "metadata": {},
   "outputs": [
    {
     "data": {
      "text/html": [
       "<div>\n",
       "<style scoped>\n",
       "    .dataframe tbody tr th:only-of-type {\n",
       "        vertical-align: middle;\n",
       "    }\n",
       "\n",
       "    .dataframe tbody tr th {\n",
       "        vertical-align: top;\n",
       "    }\n",
       "\n",
       "    .dataframe thead th {\n",
       "        text-align: right;\n",
       "    }\n",
       "</style>\n",
       "<table border=\"1\" class=\"dataframe\">\n",
       "  <thead>\n",
       "    <tr style=\"text-align: right;\">\n",
       "      <th></th>\n",
       "      <th>Unnamed: 0</th>\n",
       "      <th>Contenido</th>\n",
       "      <th>Valoración</th>\n",
       "      <th>Recomendado_binario</th>\n",
       "    </tr>\n",
       "  </thead>\n",
       "  <tbody>\n",
       "    <tr>\n",
       "      <th>0</th>\n",
       "      <td>0</td>\n",
       "      <td>marzo so bad</td>\n",
       "      <td>No recomendado</td>\n",
       "      <td>0</td>\n",
       "    </tr>\n",
       "    <tr>\n",
       "      <th>1</th>\n",
       "      <td>1</td>\n",
       "      <td>febrero actualmente recomiendo juego contaba r...</td>\n",
       "      <td>No recomendado</td>\n",
       "      <td>0</td>\n",
       "    </tr>\n",
       "    <tr>\n",
       "      <th>2</th>\n",
       "      <td>2</td>\n",
       "      <td>febrero increblemente gracioso ver cmo cdpr de...</td>\n",
       "      <td>No recomendado</td>\n",
       "      <td>0</td>\n",
       "    </tr>\n",
       "    <tr>\n",
       "      <th>3</th>\n",
       "      <td>3</td>\n",
       "      <td>the world in this game is extremely static the...</td>\n",
       "      <td>No recomendado</td>\n",
       "      <td>0</td>\n",
       "    </tr>\n",
       "    <tr>\n",
       "      <th>4</th>\n",
       "      <td>4</td>\n",
       "      <td>zero replayability i finished this game in abo...</td>\n",
       "      <td>No recomendado</td>\n",
       "      <td>0</td>\n",
       "    </tr>\n",
       "    <tr>\n",
       "      <th>...</th>\n",
       "      <td>...</td>\n",
       "      <td>...</td>\n",
       "      <td>...</td>\n",
       "      <td>...</td>\n",
       "    </tr>\n",
       "    <tr>\n",
       "      <th>19995</th>\n",
       "      <td>19995</td>\n",
       "      <td>si</td>\n",
       "      <td>Recomendado</td>\n",
       "      <td>1</td>\n",
       "    </tr>\n",
       "    <tr>\n",
       "      <th>19996</th>\n",
       "      <td>19996</td>\n",
       "      <td>cojonudo</td>\n",
       "      <td>Recomendado</td>\n",
       "      <td>1</td>\n",
       "    </tr>\n",
       "    <tr>\n",
       "      <th>19997</th>\n",
       "      <td>19997</td>\n",
       "      <td>reostia historia guapisima graficos impresiona...</td>\n",
       "      <td>Recomendado</td>\n",
       "      <td>1</td>\n",
       "    </tr>\n",
       "    <tr>\n",
       "      <th>19998</th>\n",
       "      <td>19998</td>\n",
       "      <td>basicamente sublime obra maestra</td>\n",
       "      <td>Recomendado</td>\n",
       "      <td>1</td>\n",
       "    </tr>\n",
       "    <tr>\n",
       "      <th>19999</th>\n",
       "      <td>19999</td>\n",
       "      <td>puedo dormir</td>\n",
       "      <td>Recomendado</td>\n",
       "      <td>1</td>\n",
       "    </tr>\n",
       "  </tbody>\n",
       "</table>\n",
       "<p>19712 rows × 4 columns</p>\n",
       "</div>"
      ],
      "text/plain": [
       "       Unnamed: 0                                          Contenido  \\\n",
       "0               0                                       marzo so bad   \n",
       "1               1  febrero actualmente recomiendo juego contaba r...   \n",
       "2               2  febrero increblemente gracioso ver cmo cdpr de...   \n",
       "3               3  the world in this game is extremely static the...   \n",
       "4               4  zero replayability i finished this game in abo...   \n",
       "...           ...                                                ...   \n",
       "19995       19995                                                 si   \n",
       "19996       19996                                           cojonudo   \n",
       "19997       19997  reostia historia guapisima graficos impresiona...   \n",
       "19998       19998                   basicamente sublime obra maestra   \n",
       "19999       19999                                       puedo dormir   \n",
       "\n",
       "           Valoración  Recomendado_binario  \n",
       "0      No recomendado                    0  \n",
       "1      No recomendado                    0  \n",
       "2      No recomendado                    0  \n",
       "3      No recomendado                    0  \n",
       "4      No recomendado                    0  \n",
       "...               ...                  ...  \n",
       "19995     Recomendado                    1  \n",
       "19996     Recomendado                    1  \n",
       "19997     Recomendado                    1  \n",
       "19998     Recomendado                    1  \n",
       "19999     Recomendado                    1  \n",
       "\n",
       "[19712 rows x 4 columns]"
      ]
     },
     "execution_count": 41,
     "metadata": {},
     "output_type": "execute_result"
    }
   ],
   "source": [
    "lemmatizer = WordNetLemmatizer()\n",
    "stop_words = set(stopwords.words('spanish'))\n",
    "\n",
    "def preprocess_text(text):\n",
    "    tokens = word_tokenize(text)\n",
    "    tokens = [word for word in tokens if word not in stop_words]\n",
    "    tokens = [lemmatizer.lemmatize(word) for word in tokens]\n",
    "    return ' '.join(tokens)\n",
    "\n",
    "dataset['Contenido'] = dataset['Contenido'].apply(preprocess_text)\n",
    "dataset\n"
   ]
  },
  {
   "cell_type": "markdown",
   "metadata": {},
   "source": [
    "# EDA: Análisis Exploratorio de Datos\n",
    "Voy a hacer un pequeño EDA, ya que conseguí un dataset bastante limpio y lo que estoy haciendo es procesamiento de lenguaje natural, tampoco espero ver mucha relacion entre las features."
   ]
  },
  {
   "cell_type": "code",
   "execution_count": 65,
   "metadata": {},
   "outputs": [
    {
     "data": {
      "image/png": "[encoded data removed]",
      "text/plain": [
       "<Figure size 1200x600 with 3 Axes>"
      ]
     },
     "metadata": {},
     "output_type": "display_data"
    }
   ],
   "source": [
    "plt.figure(figsize=(12, 6))\n",
    "\n",
    "# Distribución de la variable objetivo\n",
    "plt.subplot(2, 2, 1)\n",
    "sns.countplot(x='Recomendado_binario', data=dataset)\n",
    "plt.title('Distribución de la Variable Objetivo')\n",
    "\n",
    "# Longitud de los comentarios\n",
    "dataset['length'] = dataset['Contenido'].apply(len)\n",
    "plt.subplot(2, 2, 2)\n",
    "sns.histplot(dataset['length'], bins=50)\n",
    "plt.title('Distribución de la Longitud de los Comentarios')\n",
    "\n",
    "# Relación entre la longitud de los comentarios y la recomendación\n",
    "plt.subplot(2, 2, 3)\n",
    "sns.boxplot(x='Recomendado_binario', y='length', data=dataset)\n",
    "plt.title('Relación entre Longitud de Comentarios y Recomendación')\n",
    "\n",
    "plt.tight_layout()\n",
    "plt.show()"
   ]
  },
  {
   "cell_type": "markdown",
   "metadata": {},
   "source": [
    "El conjunto de datos está equilibrado, con una distribución igualitaria de comentarios positivos y negativos, lo que garantiza que el modelo pueda aprender de ambos tipos de opiniones."
   ]
  },
  {
   "cell_type": "markdown",
   "metadata": {},
   "source": [
    "# Vectorización del Texto\n",
    "Utilizaremos TF-IDF (Term Frequency-Inverse Document Frequency) para convertir el texto en vectores numéricos."
   ]
  },
  {
   "cell_type": "code",
   "execution_count": 43,
   "metadata": {},
   "outputs": [],
   "source": [
    "vectorizer = TfidfVectorizer(max_features=5000)\n",
    "X = vectorizer.fit_transform(dataset['Contenido']).toarray()\n",
    "y = dataset['Recomendado_binario']"
   ]
  },
  {
   "cell_type": "markdown",
   "metadata": {},
   "source": [
    "# División del Dataset\n",
    "Vamos a separar el dataset en conjuntos de entrenamiento y prueba."
   ]
  },
  {
   "cell_type": "code",
   "execution_count": 44,
   "metadata": {},
   "outputs": [],
   "source": [
    "X_train, X_test, y_train, y_test = train_test_split(X, y, test_size=0.2, random_state=42)"
   ]
  },
  {
   "cell_type": "markdown",
   "metadata": {},
   "source": [
    "# Entrenamiento y Evaluación de Modelos\n",
    "Entrenaremos modelos de Regresion Logística, SVC (Support Vector Classification) y Random Forest."
   ]
  },
  {
   "cell_type": "code",
   "execution_count": 45,
   "metadata": {},
   "outputs": [],
   "source": [
    "# models = {\n",
    "#     \"Logistic Regression\": LogisticRegression(max_iter=1000),\n",
    "#     \"SVM\": SVC(),\n",
    "#     \"Random Forest\": RandomForestClassifier()\n",
    "# }"
   ]
  },
  {
   "cell_type": "code",
   "execution_count": 46,
   "metadata": {},
   "outputs": [],
   "source": [
    "# for model_name, model in models.items():\n",
    "#     model.fit(X_train, y_train)\n",
    "#     y_pred = model.predict(X_test)\n",
    "#     print(f\"Results for {model_name}:\")\n",
    "#     print(classification_report(y_test, y_pred))\n",
    "#     print(confusion_matrix(y_test, y_pred))\n",
    "#     print(f\"Accuracy: {accuracy_score(y_test, y_pred)}\\n\")"
   ]
  },
  {
   "cell_type": "markdown",
   "metadata": {},
   "source": [
    "Results for Logistic Regression\n",
    "\n",
    "          precision    recall  f1-score   support\n",
    "\n",
    "       0       0.87      0.86      0.86      1968\n",
    "       1       0.86      0.88      0.87      1975\n",
    "       accuracy                    0.87      3943\n",
    "\n",
    "**Accuracy:** 0.8660918082678164\n",
    "\n",
    "Results for SVM\n",
    "\n",
    "          precision    recall  f1-score   support\n",
    "\n",
    "       0       0.89      0.89      0.89      1968\n",
    "       1       0.89      0.89      0.89      1975\n",
    "       accuracy                    0.89      3943\n",
    "\n",
    "**Accuracy:** 0.8904387522191225\n",
    "\n",
    "Results for Random Forest\n",
    "\n",
    "          precision    recall  f1-score   support\n",
    "\n",
    "       0       0.85      0.90      0.87      1968\n",
    "       1       0.89      0.84      0.86      1975\n",
    "       accuracy                    0.87      3943\n",
    "\n",
    "**Accuracy:** 0.8663454222673092"
   ]
  },
  {
   "cell_type": "markdown",
   "metadata": {},
   "source": [
    "### Evaluación de Overfitting\n",
    "Para evaluar el overfitting, vamos a comparar las métricas de los conjuntos de entrenamiento y prueba"
   ]
  },
  {
   "cell_type": "code",
   "execution_count": 47,
   "metadata": {},
   "outputs": [],
   "source": [
    "# for model_name, model in models.items():\n",
    "#     y_train_pred = model.predict(X_train)\n",
    "#     print(f\"Training Results for {model_name}:\")\n",
    "#     print(classification_report(y_train, y_train_pred))\n",
    "#     print(confusion_matrix(y_train, y_train_pred))\n",
    "#     print(f\"Training Accuracy: {accuracy_score(y_train, y_train_pred)}\\n\")"
   ]
  },
  {
   "cell_type": "markdown",
   "metadata": {},
   "source": [
    "Training Results for Logistic Regression\n",
    "\n",
    "          precision    recall  f1-score   support\n",
    "\n",
    "        0       0.90      0.89      0.90      7917\n",
    "        1       0.89      0.90      0.90      7852\n",
    "        accuracy                    0.90     15769\n",
    "\n",
    "**Training Accuracy:** 0.8975838670809817\n",
    "\n",
    "Training Results for SVM\n",
    "\n",
    "          precision    recall  f1-score   support\n",
    "\n",
    "       0       0.98      0.96      0.97      7917\n",
    "       1       0.96      0.98      0.97      7852\n",
    "       accuracy                    0.97     15769\n",
    "\n",
    "**Training Accuracy:** 0.9675312321643731\n",
    "\n",
    "Training Results for Random Forest\n",
    "\n",
    "          precision    recall  f1-score   support\n",
    "\n",
    "       0       0.99      0.97      0.98      7917\n",
    "       1       0.97      0.99      0.98      7852\n",
    "       accuracy                    0.98     15769\n",
    "\n",
    "**Training Accuracy:** 0.98"
   ]
  },
  {
   "cell_type": "markdown",
   "metadata": {},
   "source": [
    "Estamos ante un caso de overfitting, claramente, dado que los resultados en el conjunto de prueba son significativamente peores que los resultados casi perfectos obtenidos durante el entrenamiento.\n",
    "\n",
    "### Mitigación de Overfitting\n",
    "Para reducir el overfitting en los modelos de SVM y Random Forest, podemos aplicar varias técnicas:\n",
    "\n",
    "- Regularización para SVM: Ajustar el parámetro de regularización C para encontrar un equilibrio entre el ajuste del modelo y la simplicidad.\n",
    "- Reducción de la Complejidad del Random Forest: Limitar la profundidad máxima de los árboles y reducir el número de estimadores.\n",
    "- Cross-validation: Utilizar la validación cruzada para evaluar el rendimiento del modelo y ajustar los hiperparámetros de manera más robusta."
   ]
  },
  {
   "cell_type": "code",
   "execution_count": 48,
   "metadata": {},
   "outputs": [],
   "source": [
    "logreg_params = {'C': [0.01, 0.1, 1, 10, 100]}\n",
    "logreg_grid = GridSearchCV(LogisticRegression(max_iter=1000), logreg_params, cv=5, scoring='accuracy')\n",
    "logreg_grid.fit(X_train, y_train)\n",
    "best_logreg = logreg_grid.best_estimator_"
   ]
  },
  {
   "cell_type": "markdown",
   "metadata": {},
   "source": [
    "**3 min, rapidito.**"
   ]
  },
  {
   "cell_type": "code",
   "execution_count": 49,
   "metadata": {},
   "outputs": [],
   "source": [
    "rf_params = {'n_estimators': [100, 200], 'max_depth': [10, 20, None], 'min_samples_split': [2, 5, 10]}\n",
    "rf_grid = GridSearchCV(RandomForestClassifier(), rf_params, cv=5, scoring='accuracy')\n",
    "rf_grid.fit(X_train, y_train)\n",
    "best_rf = rf_grid.best_estimator_"
   ]
  },
  {
   "cell_type": "markdown",
   "metadata": {},
   "source": [
    "**70 -80 min para correr este gridsearch**"
   ]
  },
  {
   "cell_type": "code",
   "execution_count": 50,
   "metadata": {},
   "outputs": [],
   "source": [
    "# svm_params = {'C': [0.1, 1, 10, 100], 'kernel': ['linear', 'rbf']}\n",
    "# svm_grid = GridSearchCV(SVC(), svm_params, cv=5, scoring='accuracy')\n",
    "# svm_grid.fit(X_train, y_train)\n",
    "# best_svm = svm_grid.best_estimator_"
   ]
  },
  {
   "cell_type": "markdown",
   "metadata": {},
   "source": [
    "**400 min para correr este gridsearch**"
   ]
  },
  {
   "cell_type": "code",
   "execution_count": 51,
   "metadata": {},
   "outputs": [],
   "source": [
    "models = {\n",
    "    \"Logistic Regression\": best_logreg,\n",
    "    # \"Best SVM\": best_svm,\n",
    "    \"Best Random Forest\": best_rf\n",
    "}"
   ]
  },
  {
   "cell_type": "code",
   "execution_count": 53,
   "metadata": {},
   "outputs": [
    {
     "name": "stdout",
     "output_type": "stream",
     "text": [
      "Results for Logistic Regression:\n",
      "              precision    recall  f1-score   support\n",
      "\n",
      "           0       0.88      0.87      0.88      1968\n",
      "           1       0.87      0.88      0.88      1975\n",
      "\n",
      "    accuracy                           0.88      3943\n",
      "   macro avg       0.88      0.88      0.88      3943\n",
      "weighted avg       0.88      0.88      0.88      3943\n",
      "\n",
      "[[1718  250]\n",
      " [ 234 1741]]\n",
      "Accuracy: 0.8772508242454984\n",
      "\n",
      "Training Results for Logistic Regression:\n",
      "              precision    recall  f1-score   support\n",
      "\n",
      "           0       0.94      0.93      0.94      7917\n",
      "           1       0.93      0.94      0.94      7852\n",
      "\n",
      "    accuracy                           0.94     15769\n",
      "   macro avg       0.94      0.94      0.94     15769\n",
      "weighted avg       0.94      0.94      0.94     15769\n",
      "\n",
      "[[7391  526]\n",
      " [ 439 7413]]\n",
      "Training Accuracy: 0.9388039824973048\n",
      "\n",
      "Results for Best SVM:\n",
      "              precision    recall  f1-score   support\n",
      "\n",
      "           0       0.90      0.88      0.89      1968\n",
      "           1       0.89      0.90      0.89      1975\n",
      "\n",
      "    accuracy                           0.89      3943\n",
      "   macro avg       0.89      0.89      0.89      3943\n",
      "weighted avg       0.89      0.89      0.89      3943\n",
      "\n",
      "[[1739  229]\n",
      " [ 192 1783]]\n",
      "Accuracy: 0.893228506213543\n",
      "\n",
      "Training Results for Best SVM:\n",
      "              precision    recall  f1-score   support\n",
      "\n",
      "           0       0.99      0.97      0.98      7917\n",
      "           1       0.97      0.99      0.98      7852\n",
      "\n",
      "    accuracy                           0.98     15769\n",
      "   macro avg       0.98      0.98      0.98     15769\n",
      "weighted avg       0.98      0.98      0.98     15769\n",
      "\n",
      "[[7683  234]\n",
      " [  46 7806]]\n",
      "Training Accuracy: 0.9822436425898916\n",
      "\n",
      "Results for Best Random Forest:\n",
      "              precision    recall  f1-score   support\n",
      "\n",
      "           0       0.85      0.89      0.87      1968\n",
      "           1       0.89      0.84      0.86      1975\n",
      "\n",
      "    accuracy                           0.87      3943\n",
      "   macro avg       0.87      0.87      0.87      3943\n",
      "weighted avg       0.87      0.87      0.87      3943\n",
      "\n",
      "[[1759  209]\n",
      " [ 319 1656]]\n",
      "Accuracy: 0.8660918082678164\n",
      "\n",
      "Training Results for Best Random Forest:\n",
      "              precision    recall  f1-score   support\n",
      "\n",
      "           0       0.99      0.97      0.98      7917\n",
      "           1       0.97      0.99      0.98      7852\n",
      "\n",
      "    accuracy                           0.98     15769\n",
      "   macro avg       0.98      0.98      0.98     15769\n",
      "weighted avg       0.98      0.98      0.98     15769\n",
      "\n",
      "[[7688  229]\n",
      " [  47 7805]]\n",
      "Training Accuracy: 0.9824973048386074\n",
      "\n"
     ]
    }
   ],
   "source": [
    "for model_name, model in models.items():\n",
    "    model.fit(X_train, y_train)\n",
    "    y_pred = model.predict(X_test)\n",
    "    print(f\"Results for {model_name}:\")\n",
    "    print(classification_report(y_test, y_pred))\n",
    "    print(confusion_matrix(y_test, y_pred))\n",
    "    print(f\"Accuracy: {accuracy_score(y_test, y_pred)}\\n\")\n",
    "\n",
    "    # Evaluación en el conjunto de entrenamiento\n",
    "    y_train_pred = model.predict(X_train)\n",
    "    print(f\"Training Results for {model_name}:\")\n",
    "    print(classification_report(y_train, y_train_pred))\n",
    "    print(confusion_matrix(y_train, y_train_pred))\n",
    "    print(f\"Training Accuracy: {accuracy_score(y_train, y_train_pred)}\\n\")"
   ]
  },
  {
   "cell_type": "markdown",
   "metadata": {},
   "source": [
    "Los resultados muestran que todavía hay una diferencia significativa entre las métricas de entrenamiento y prueba, especialmente en el modelo Random Forest, lo que indica que hay overfitting en el modelo Random Forest. El modelo de Logistic Regression parece tener un rendimiento más consistente entre los conjuntos de entrenamiento y prueba, aunque aún existe una ligera diferencia."
   ]
  },
  {
   "cell_type": "markdown",
   "metadata": {},
   "source": [
    "### Validación Cruzada para Evaluación Más Robusta\n",
    "Vamos a usar la validación cruzada para evaluar de manera más robusta los modelos."
   ]
  },
  {
   "cell_type": "code",
   "execution_count": 59,
   "metadata": {},
   "outputs": [
    {
     "name": "stdout",
     "output_type": "stream",
     "text": [
      "Cross-Validation Scores for Logistic Regression: [0.87793278 0.8725428  0.86144578 0.86810399 0.87694259]\n",
      "Mean Cross-Validation Score: 0.8713935917941885\n",
      "\n",
      "Cross-Validation Scores for Best SVM: [0.89695625 0.88300571 0.87920101 0.88617628 0.89470346]\n",
      "Mean Cross-Validation Score: 0.8880085417537746\n",
      "\n",
      "Cross-Validation Scores for Best Random Forest: [0.85827521 0.84242232 0.8538364  0.85954344 0.86203616]\n",
      "Mean Cross-Validation Score: 0.8552227036243526\n",
      "\n"
     ]
    }
   ],
   "source": [
    "for model_name, model in models.items():\n",
    "    cv_scores = cross_val_score(model, X_train, y_train, cv=5, scoring='accuracy')\n",
    "    print(f\"Cross-Validation Scores for {model_name}: {cv_scores}\")\n",
    "    print(f\"Mean Cross-Validation Score: {np.mean(cv_scores)}\\n\")"
   ]
  },
  {
   "cell_type": "markdown",
   "metadata": {},
   "source": [
    "**Los resultados de la validación cruzada para el modelo de Random Forest muestran una media consistente con las puntuaciones de entrenamiento y prueba. Esto sugiere que el modelo tiene un rendimiento razonablemente bueno y no está sobreajustado.**"
   ]
  },
  {
   "cell_type": "markdown",
   "metadata": {},
   "source": [
    "### Selección del Mejor Modelo\n",
    "Dado que ambos modelos tienen un rendimiento similar, podemos elegir el que mejor se adapte a nuestras necesidades. En este caso, voy a seleccionar el modelo Random Forest debido a su mayor estabilidad entre las métricas de prueba en un conjunto de datos nuevos\n",
    "No obstante, guardaré todos los modelos para poder hacer así las comprobaciones con datos nuevos de todos los modelos y medir así de forma más realista su eficacia generalizando."
   ]
  },
  {
   "cell_type": "markdown",
   "metadata": {},
   "source": [
    "# Guardar el Modelo\n",
    "\n",
    "Como ya he mencionado, mi modelo favorito y con el que me voy a quedar es el Random Forest, a pesar de que a priori no ofrece los mejores resultados, comparando todas las metricas da las mejores sensaciones, huyendo del overfitting y una vez hecha las pruebas oportunas con datos completamente nuevos, es el que mejor resultados ofrece. \n",
    "\n",
    "Siendo SVM, a priori el que mejores resultados ofrece, también es el que en pruebas 'reales' da mayor número de respuestas incoherentes o inesperadas, a parte de que le cuesta procesar textos grandes.\n",
    "\n",
    "Todo ello hace que nos quedemos con Random Forest como mejor modelo."
   ]
  },
  {
   "cell_type": "code",
   "execution_count": 63,
   "metadata": {},
   "outputs": [
    {
     "name": "stdout",
     "output_type": "stream",
     "text": [
      "Modelos guardados correctamente.\n"
     ]
    }
   ],
   "source": [
    "# Guardar el modelo Random Forest\n",
    "with open('../Modelo/best_modelfinal_rf.pkl', 'wb') as file:\n",
    "    pickle.dump(best_rf, file)\n",
    "\n",
    "# # Guardar el modelo SVM\n",
    "# with open('../Modelo/best_modelfinal_svm.pkl', 'wb') as file:\n",
    "#     pickle.dump(best_svm, file)\n",
    "\n",
    "# # Guardar el modelo Logistic Regression\n",
    "# with open('../Modelo/best_model_logreg.pkl', 'wb') as file:\n",
    "#     pickle.dump(best_logreg, file)\n",
    "\n",
    "print(\"Modelos guardados correctamente.\")"
   ]
  },
  {
   "cell_type": "markdown",
   "metadata": {},
   "source": [
    "Guardo también el vectorizador con los cambios necesarios oportunos para el dataframe en el que probemos nuestro modelo, de esta manera adaptaremos esos datos a los requisitos de nuestro modelo."
   ]
  },
  {
   "cell_type": "code",
   "execution_count": 64,
   "metadata": {},
   "outputs": [],
   "source": [
    "with open('../Modelo/vectorizer.pkl', 'wb') as file:\n",
    "    pickle.dump(vectorizer, file)"
   ]
  },
  {
   "cell_type": "markdown",
   "metadata": {},
   "source": [
    "<h1 style=\"text-align: center; font-size: 2.5em; text-decoration: underline;\">FIN</h1>"
   ]
  },
  {
   "cell_type": "markdown",
   "metadata": {},
   "source": [
    "<img src=\"../../Img/Go.webp\" alt=\"Resumen del Proyecto de Clasificación de Comentarios de Videojuegos\" width=\"100%\" height=\"300px\">"
   ]
  }
 ],
 "metadata": {
  "kernelspec": {
   "display_name": "Python 3",
   "language": "python",
   "name": "python3"
  },
  "language_info": {
   "codemirror_mode": {
    "name": "ipython",
    "version": 3
   },
   "file_extension": ".py",
   "mimetype": "text/x-python",
   "name": "python",
   "nbconvert_exporter": "python",
   "pygments_lexer": "ipython3",
   "version": "3.12.4"
  }
 },
 "nbformat": 4,
 "nbformat_minor": 2
}
