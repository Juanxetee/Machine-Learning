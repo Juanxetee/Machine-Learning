{
 "cells": [
  {
   "cell_type": "code",
   "execution_count": 16,
   "metadata": {},
   "outputs": [],
   "source": [
    "import pandas as pd\n",
    "import re\n",
    "import nltk\n",
    "from nltk.tokenize import word_tokenize\n",
    "from nltk.corpus import stopwords\n",
    "from nltk.stem import WordNetLemmatizer\n",
    "from langdetect import detect\n",
    "import pickle\n",
    "from sklearn.metrics import classification_report, confusion_matrix, accuracy_score"
   ]
  },
  {
   "cell_type": "code",
   "execution_count": 17,
   "metadata": {},
   "outputs": [
    {
     "name": "stderr",
     "output_type": "stream",
     "text": [
      "[nltk_data] Downloading package punkt to\n",
      "[nltk_data]     C:\\Users\\buque\\AppData\\Roaming\\nltk_data...\n",
      "[nltk_data]   Package punkt is already up-to-date!\n",
      "[nltk_data] Downloading package stopwords to\n",
      "[nltk_data]     C:\\Users\\buque\\AppData\\Roaming\\nltk_data...\n",
      "[nltk_data]   Package stopwords is already up-to-date!\n",
      "[nltk_data] Downloading package wordnet to\n",
      "[nltk_data]     C:\\Users\\buque\\AppData\\Roaming\\nltk_data...\n",
      "[nltk_data]   Package wordnet is already up-to-date!\n"
     ]
    },
    {
     "data": {
      "text/plain": [
       "True"
      ]
     },
     "execution_count": 17,
     "metadata": {},
     "output_type": "execute_result"
    }
   ],
   "source": [
    "# Descargar recursos necesarios para nltk\n",
    "nltk.download('punkt')\n",
    "nltk.download('stopwords')\n",
    "nltk.download('wordnet')"
   ]
  },
  {
   "cell_type": "code",
   "execution_count": 18,
   "metadata": {},
   "outputs": [],
   "source": [
    "with open('best_model.pkl', 'rb') as file:\n",
    "    best_model = pickle.load(file)\n",
    "with open('vectorizer.pkl', 'rb') as file:\n",
    "    vectorizer = pickle.load(file)"
   ]
  },
  {
   "cell_type": "code",
   "execution_count": 19,
   "metadata": {},
   "outputs": [],
   "source": [
    "def preprocess_text_multilingual(text, language):\n",
    "    lemmatizer = WordNetLemmatizer()\n",
    "    if language == 'spanish':\n",
    "        stop_words = set(stopwords.words('spanish'))\n",
    "    elif language == 'english':\n",
    "        stop_words = set(stopwords.words('english'))\n",
    "    else:\n",
    "        # Añadir más idiomas según sea necesario\n",
    "        stop_words = set()\n",
    "    \n",
    "    tokens = word_tokenize(text.lower())\n",
    "    tokens = [word for word in tokens if word not in stop_words]\n",
    "    tokens = [lemmatizer.lemmatize(word) for word in tokens]\n",
    "    return ' '.join(tokens)"
   ]
  },
  {
   "cell_type": "code",
   "execution_count": 20,
   "metadata": {},
   "outputs": [],
   "source": [
    "def predict_comment(comment):\n",
    "    try:\n",
    "        language = detect(comment)\n",
    "    except:\n",
    "        language = 'unknown'\n",
    "    \n",
    "    if language in ['es', 'en']:  # Añadir más códigos de idiomas según sea necesario\n",
    "        if language == 'es':\n",
    "            language = 'spanish'\n",
    "        elif language == 'en':\n",
    "            language = 'english'\n",
    "        preprocessed_comment = preprocess_text_multilingual(comment, language)\n",
    "        vectorized_comment = vectorizer.transform([preprocessed_comment]).toarray()\n",
    "        prediction = best_model.predict(vectorized_comment)\n",
    "        return 'Positivo' if prediction[0] == 1 else 'Negativo'\n",
    "    else:\n",
    "        return 'Idioma no soportado'"
   ]
  },
  {
   "cell_type": "code",
   "execution_count": 21,
   "metadata": {},
   "outputs": [],
   "source": [
    "def detect_and_preprocess(text):\n",
    "    try:\n",
    "        language = detect(text)\n",
    "    except:\n",
    "        language = 'unknown'\n",
    "    \n",
    "    if language in ['es', 'en']:\n",
    "        if language == 'es':\n",
    "            language = 'spanish'\n",
    "        elif language == 'en':\n",
    "            language = 'english'\n",
    "        return preprocess_text_multilingual(text, language)\n",
    "    else:\n",
    "        return text"
   ]
  },
  {
   "cell_type": "code",
   "execution_count": 22,
   "metadata": {},
   "outputs": [
    {
     "name": "stdout",
     "output_type": "stream",
     "text": [
      "El comentario en español: 'Ha sido la peor experiencia de juego de mi vida' es Negativo\n",
      "El comentario en inglés: 'I am not playing this game again' es Negativo\n"
     ]
    }
   ],
   "source": [
    "comentario_es = \"Este juego es fantástico y muy divertido!\"\n",
    "comentario_en = \"This game is fantastic and very enjoyable!\"\n",
    "comentario_es = \"Ha sido la peor experiencia de juego de mi vida\"\n",
    "comentario_en = \"I am not playing this game again\"\n",
    "\n",
    "resultado_es = predict_comment(comentario_es)\n",
    "resultado_en = predict_comment(comentario_en)\n",
    "\n",
    "print(f\"El comentario en español: '{comentario_es}' es {resultado_es}\")\n",
    "print(f\"El comentario en inglés: '{comentario_en}' es {resultado_en}\")"
   ]
  },
  {
   "cell_type": "code",
   "execution_count": 23,
   "metadata": {},
   "outputs": [
    {
     "name": "stdout",
     "output_type": "stream",
     "text": [
      "El comentario: 'Este juego es increíble, me encantó cada minuto.' es Positivo\n",
      "El comentario: 'La jugabilidad es excelente y los gráficos son impresionantes.' es Positivo\n",
      "El comentario: 'Me encanta cómo se desarrolla la historia, es muy atrapante.' es Positivo\n",
      "El comentario: 'Los personajes están muy bien desarrollados y la trama es genial.' es Positivo\n",
      "El comentario: 'Muy recomendable, horas de diversión garantizada.' es Positivo\n",
      "El comentario: 'Un juego muy bien hecho, vale cada centavo.' es Positivo\n",
      "El comentario: 'La música y los efectos de sonido son de primera calidad.' es Positivo\n",
      "El comentario: 'Una experiencia de juego inolvidable, lo recomiendo mucho.' es Positivo\n",
      "El comentario: 'El mejor juego que he jugado en años, simplemente fantástico.' es Positivo\n",
      "El comentario: 'Me sorprendió gratamente, superó todas mis expectativas.' es Positivo\n",
      "El comentario: 'El juego es aburrido y repetitivo, no lo recomiendo.' es Negativo\n",
      "El comentario: 'Los gráficos son mediocres y la jugabilidad es terrible.' es Positivo\n",
      "El comentario: 'La historia no tiene sentido y los personajes son planos.' es Positivo\n",
      "El comentario: 'Perdí el interés rápidamente, muy decepcionante.' es Negativo\n",
      "El comentario: 'Un desperdicio de dinero, no vale la pena.' es Negativo\n",
      "El comentario: 'El control es incómodo y frustrante, no pude disfrutarlo.' es Negativo\n",
      "El comentario: 'Tiene muchos errores y bugs, arruina la experiencia.' es Negativo\n",
      "El comentario: 'Muy corto y sin contenido, se termina en unas pocas horas.' es Positivo\n",
      "El comentario: 'El peor juego que he jugado, una pérdida de tiempo.' es Negativo\n",
      "El comentario: 'No cumple con lo prometido, muy decepcionante.' es Negativo\n",
      "El comentario: 'This game is amazing, I loved every minute of it.' es Negativo\n",
      "El comentario: 'The gameplay is excellent and the graphics are stunning.' es Positivo\n",
      "El comentario: 'I love how the story unfolds, it's very engaging.' es Positivo\n",
      "El comentario: 'The characters are well-developed and the plot is great.' es Positivo\n",
      "El comentario: 'Highly recommended, hours of guaranteed fun.' es Positivo\n",
      "El comentario: 'A very well-made game, worth every penny.' es Negativo\n",
      "El comentario: 'The music and sound effects are top-notch.' es Positivo\n",
      "El comentario: 'An unforgettable gaming experience, highly recommend it.' es Positivo\n",
      "El comentario: 'The best game I've played in years, simply fantastic.' es Positivo\n",
      "El comentario: 'I was pleasantly surprised, exceeded all my expectations.' es Positivo\n",
      "El comentario: 'The game is boring and repetitive, I don't recommend it.' es Negativo\n",
      "El comentario: 'The graphics are mediocre and the gameplay is terrible.' es Negativo\n",
      "El comentario: 'The story doesn't make sense and the characters are flat.' es Positivo\n",
      "El comentario: 'I lost interest quickly, very disappointing.' es Positivo\n",
      "El comentario: 'A waste of money, not worth it.' es Negativo\n",
      "El comentario: 'The controls are awkward and frustrating, couldn't enjoy it.' es Negativo\n",
      "El comentario: 'It has many bugs and glitches, ruins the experience.' es Negativo\n",
      "El comentario: 'Very short and lacking content, finishes in a few hours.' es Positivo\n",
      "El comentario: 'The worst game I've played, a complete waste of time.' es Negativo\n",
      "El comentario: 'It doesn't live up to the hype, very disappointing.' es Negativo\n"
     ]
    }
   ],
   "source": [
    "comentarios_positivos_es = [\n",
    "    \"Este juego es increíble, me encantó cada minuto.\",\n",
    "    \"La jugabilidad es excelente y los gráficos son impresionantes.\",\n",
    "    \"Me encanta cómo se desarrolla la historia, es muy atrapante.\",\n",
    "    \"Los personajes están muy bien desarrollados y la trama es genial.\",\n",
    "    \"Muy recomendable, horas de diversión garantizada.\",\n",
    "    \"Un juego muy bien hecho, vale cada centavo.\",\n",
    "    \"La música y los efectos de sonido son de primera calidad.\",\n",
    "    \"Una experiencia de juego inolvidable, lo recomiendo mucho.\",\n",
    "    \"El mejor juego que he jugado en años, simplemente fantástico.\",\n",
    "    \"Me sorprendió gratamente, superó todas mis expectativas.\"\n",
    "]\n",
    "\n",
    "comentarios_negativos_es = [\n",
    "    \"El juego es aburrido y repetitivo, no lo recomiendo.\",\n",
    "    \"Los gráficos son mediocres y la jugabilidad es terrible.\",\n",
    "    \"La historia no tiene sentido y los personajes son planos.\",\n",
    "    \"Perdí el interés rápidamente, muy decepcionante.\",\n",
    "    \"Un desperdicio de dinero, no vale la pena.\",\n",
    "    \"El control es incómodo y frustrante, no pude disfrutarlo.\",\n",
    "    \"Tiene muchos errores y bugs, arruina la experiencia.\",\n",
    "    \"Muy corto y sin contenido, se termina en unas pocas horas.\",\n",
    "    \"El peor juego que he jugado, una pérdida de tiempo.\",\n",
    "    \"No cumple con lo prometido, muy decepcionante.\"\n",
    "]\n",
    "\n",
    "comentarios_positivos_en = [\n",
    "    \"This game is amazing, I loved every minute of it.\",\n",
    "    \"The gameplay is excellent and the graphics are stunning.\",\n",
    "    \"I love how the story unfolds, it's very engaging.\",\n",
    "    \"The characters are well-developed and the plot is great.\",\n",
    "    \"Highly recommended, hours of guaranteed fun.\",\n",
    "    \"A very well-made game, worth every penny.\",\n",
    "    \"The music and sound effects are top-notch.\",\n",
    "    \"An unforgettable gaming experience, highly recommend it.\",\n",
    "    \"The best game I've played in years, simply fantastic.\",\n",
    "    \"I was pleasantly surprised, exceeded all my expectations.\"\n",
    "]\n",
    "\n",
    "comentarios_negativos_en = [\n",
    "    \"The game is boring and repetitive, I don't recommend it.\",\n",
    "    \"The graphics are mediocre and the gameplay is terrible.\",\n",
    "    \"The story doesn't make sense and the characters are flat.\",\n",
    "    \"I lost interest quickly, very disappointing.\",\n",
    "    \"A waste of money, not worth it.\",\n",
    "    \"The controls are awkward and frustrating, couldn't enjoy it.\",\n",
    "    \"It has many bugs and glitches, ruins the experience.\",\n",
    "    \"Very short and lacking content, finishes in a few hours.\",\n",
    "    \"The worst game I've played, a complete waste of time.\",\n",
    "    \"It doesn't live up to the hype, very disappointing.\"\n",
    "]\n",
    "\n",
    "\n",
    "for comentario in comentarios_positivos_es + comentarios_negativos_es + comentarios_positivos_en + comentarios_negativos_en:\n",
    "    resultado = predict_comment(comentario)\n",
    "    print(f\"El comentario: '{comentario}' es {resultado}\")\n"
   ]
  },
  {
   "cell_type": "code",
   "execution_count": 24,
   "metadata": {},
   "outputs": [],
   "source": [
    "game_overview = pd.read_csv('game_overview.csv')"
   ]
  },
  {
   "cell_type": "code",
   "execution_count": 25,
   "metadata": {},
   "outputs": [],
   "source": [
    "# Preprocesar los comentarios\n",
    "game_overview = game_overview.dropna(subset=['overview'])\n",
    "game_overview['overview'] = game_overview['overview'].apply(detect_and_preprocess)"
   ]
  },
  {
   "cell_type": "code",
   "execution_count": 26,
   "metadata": {},
   "outputs": [],
   "source": [
    "# Vectorización del texto usando el vectorizador cargado\n",
    "X_new = vectorizer.transform(game_overview['overview']).toarray()\n",
    "\n",
    "# Evaluar el modelo en el nuevo conjunto de datos\n",
    "y_new_pred = best_model.predict(X_new)"
   ]
  },
  {
   "cell_type": "code",
   "execution_count": 27,
   "metadata": {},
   "outputs": [
    {
     "name": "stdout",
     "output_type": "stream",
     "text": [
      "Predictions on Game Overview Dataset:\n",
      "                                             overview  prediction\n",
      "0   survive 1000 room cute terror ? break cuteness...           0\n",
      "1   latest entry sakura series action-packed ever ...           1\n",
      "2   free play shooter confrontation two irreconcil...           0\n",
      "3   take helm gigantic capital ship get ready batt...           0\n",
      "4   counter-strike : global offensive ( c : go ) e...           0\n",
      "5   most-played game steam.every day , million pla...           0\n",
      "6   exile , struggling survive dark continent wrae...           1\n",
      "7   war thunder comprehensive free-to-play , cross...           0\n",
      "8                                                               1\n",
      "9   `` fun online '' - pc gameris free ! ’ catch !...           0\n",
      "10  200 historic naval vessel command world warshi...           1\n",
      "11                                                              1\n",
      "12  take duelist around world `` yu-gi-oh ! duel l...           0\n",
      "13  join 25+ million player paladin , free-to-play...           0\n",
      "14  enter battleground godsjoin million smite play...           1\n",
      "15  brawlhalla : eternal battle arena greatest war...           0\n",
      "16  world tank blitz cross-platform free-to-play t...           0\n",
      "17  `` four million battle every day . one shadowv...           0\n",
      "18  feel excitement flying su-25t `` frogfoot '' a...           0\n",
      "19  hero & general full , all-out war experience ....           0\n",
      "20  play ownstory mode provides hour solo gameplay...           1\n",
      "21  tree savior ( `` tos '' ) mmorpg embark journe...           0\n",
      "22  grab friend , hone blade , set adventure trove...           1\n",
      "23                                                              1\n",
      "24  explore fantasy world realm royale , new battl...           1\n",
      "25  planetside 2 free-to-play , massively multipla...           0\n",
      "26  stake claim , command fleet , wage epic war sp...           1\n",
      "27  engage epic 1v1 2v2 battle , fast-paced strate...           0\n",
      "28  realm mad god first ever free play bullet hell...           1\n",
      "29  elsword free-to-play , online action rpg us cl...           1\n",
      "30  lord ring online™ , join world ’ greatest fell...           1\n",
      "31  fishing planet® unique highly realistic online...           0\n",
      "32  hey hot stuff ! looking fun flirty game kill t...           0\n",
      "33  etheria attack ! build mighty defense freeze ,...           0\n",
      "34  realistic online hunting game ever created ava...           0\n",
      "35  governor poker 3 best free multiplayer poker g...           0\n",
      "36  game changedsix-guns sorcery collide eternal ,...           0\n",
      "37  black squad military first-person-shooter game...           0\n",
      "38  freestyle 2 ultimate online street basketball ...           0\n",
      "39  “ invite world bless online ! ” explore beauti...           1\n",
      "40  raceroom premier free-to-play racing simulatio...           0\n",
      "41  digimon master online latest mmo featuring eve...           0\n",
      "42  fallout shelter put control state-of-the-art u...           0\n",
      "43  shake fidget fun fantasy rpg satire award-winn...           1\n",
      "44  =game summary=experience rush 3-5 minute strat...           0\n",
      "45  embark wondrous adventurewield power manipulat...           1\n",
      "46  dreadnought one thing : team-based , capital s...           0\n",
      "47  infestation : new z free play multi-game mode ...           0\n",
      "48  champion online brings epic heroism back mmorp...           0\n",
      "49  craft legendary item , gear hero epic quest , ...           1\n",
      "50  card . strategy . bigger story . collect 1,300...           0\n",
      "51  build insane , fully customisable robot battle...           0\n",
      "52  `` business tour '' simple entertaining gamepl...           0\n",
      "53  aura kingdom new anime mmorpg published aeria ...           1\n",
      "54  unlock crusader , collect gear , earn achievem...           0\n",
      "55  adventurequest 3d cross-platform ( phone , tab...           0\n",
      "56  grow kingdom , build alliance , explore one de...           0\n",
      "57  h1z1 : battle royale free play , fast-paced , ...           0\n",
      "58  know inside terminator ’ minigun work ? try wo...           0\n",
      "59  play top-rated tower defense franchise free he...           0\n",
      "60  cuisine royale all-kitchen-warfare battle roya...           0\n",
      "61  mashup rts & tower defense , gun ! action pack...           0\n",
      "62  * * changewing dragon available * * fly fast ....           1\n",
      "63  everquest® ii epitome massively multiplayer ga...           1\n"
     ]
    }
   ],
   "source": [
    "if 'Recomendado_binario' in game_overview.columns:\n",
    "    y_true = game_overview['Recomendado_binario']\n",
    "    print(\"Results on Game Overview Dataset:\")\n",
    "    print(classification_report(y_true, y_new_pred))\n",
    "    print(confusion_matrix(y_true, y_new_pred))\n",
    "    print(f\"Accuracy: {accuracy_score(y_true, y_new_pred)}\")\n",
    "else:\n",
    "    print(\"Predictions on Game Overview Dataset:\")\n",
    "    game_overview['prediction'] = y_new_pred\n",
    "    pd.set_option('display.max_rows', None)  # Mostrar todas las filas\n",
    "    print(game_overview[['overview', 'prediction']])"
   ]
  },
  {
   "cell_type": "code",
   "execution_count": 33,
   "metadata": {},
   "outputs": [],
   "source": [
    "# Función para predecir el sentimiento de un comentario independiente\n",
    "def predict_comment(comment):\n",
    "    preprocessed_comment = detect_and_preprocess(comment)\n",
    "    vectorized_comment = vectorizer.transform([preprocessed_comment]).toarray()\n",
    "    prediction = best_model.predict(vectorized_comment)\n",
    "    return 'Positivo' if prediction[0] == 1 else 'Negativo'"
   ]
  },
  {
   "cell_type": "code",
   "execution_count": 34,
   "metadata": {},
   "outputs": [
    {
     "name": "stdout",
     "output_type": "stream",
     "text": [
      "El comentario: 'This game is fantastic and very enjoyable!' es Positivo\n"
     ]
    }
   ],
   "source": [
    "comentario = \"This game is fantastic and very enjoyable!\"\n",
    "resultado = predict_comment(comentario)\n",
    "print(f\"El comentario: '{comentario}' es {resultado}\")"
   ]
  },
  {
   "cell_type": "code",
   "execution_count": 35,
   "metadata": {},
   "outputs": [
    {
     "name": "stdout",
     "output_type": "stream",
     "text": [
      "El comentario: 'Me aburre bastante' es Negativo\n"
     ]
    }
   ],
   "source": [
    "comentario = \"Me aburre bastante\"\n",
    "resultado = predict_comment(comentario)\n",
    "print(f\"El comentario: '{comentario}' es {resultado}\")"
   ]
  },
  {
   "cell_type": "code",
   "execution_count": 39,
   "metadata": {},
   "outputs": [
    {
     "name": "stdout",
     "output_type": "stream",
     "text": [
      "El comentario: 'this game is so boring' es Positivo\n"
     ]
    }
   ],
   "source": [
    "comentario = \"this game is so boring\"\n",
    "resultado = predict_comment(comentario)\n",
    "print(f\"El comentario: '{comentario}' es {resultado}\")"
   ]
  },
  {
   "cell_type": "code",
   "execution_count": null,
   "metadata": {},
   "outputs": [],
   "source": []
  }
 ],
 "metadata": {
  "kernelspec": {
   "display_name": "Python 3",
   "language": "python",
   "name": "python3"
  },
  "language_info": {
   "codemirror_mode": {
    "name": "ipython",
    "version": 3
   },
   "file_extension": ".py",
   "mimetype": "text/x-python",
   "name": "python",
   "nbconvert_exporter": "python",
   "pygments_lexer": "ipython3",
   "version": "3.12.4"
  }
 },
 "nbformat": 4,
 "nbformat_minor": 2
}
